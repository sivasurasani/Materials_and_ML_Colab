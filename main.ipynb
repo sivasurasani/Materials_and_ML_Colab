{
  "cells": [
    {
      "cell_type": "markdown",
      "metadata": {
        "id": "view-in-github"
      },
      "source": [
        "<a href=\"https://colab.research.google.com/github/Kishan-Kumar-Zalavadia/Material-Science/blob/main/code_9_(Read_multiple_files).ipynb\" target=\"_parent\"><img src=\"https://colab.research.google.com/assets/colab-badge.svg\" alt=\"Open In Colab\"/></a>"
      ]
    },
    {
      "cell_type": "markdown",
      "metadata": {
        "id": "pXCOtKLhabfB"
      },
      "source": [
        "# Static variables"
      ]
    },
    {
      "cell_type": "code",
      "source": [
        "# Installations we may need\n",
        "!pip install PyPDF2\n",
        "!pip install pytesseract\n",
        "!pip install pdf2image\n",
        "!apt-get install poppler-utils"
      ],
      "metadata": {
        "colab": {
          "base_uri": "https://localhost:8080/"
        },
        "id": "o1gK1VYUq-Xn",
        "outputId": "b6684c46-044d-48aa-ddb8-07cf1c28d1a5"
      },
      "execution_count": null,
      "outputs": [
        {
          "output_type": "stream",
          "name": "stdout",
          "text": [
            "Collecting PyPDF2\n",
            "  Downloading pypdf2-3.0.1-py3-none-any.whl.metadata (6.8 kB)\n",
            "Downloading pypdf2-3.0.1-py3-none-any.whl (232 kB)\n",
            "\u001b[?25l   \u001b[90m━━━━━━━━━━━━━━━━━━━━━━━━━━━━━━━━━━━━━━━━\u001b[0m \u001b[32m0.0/232.6 kB\u001b[0m \u001b[31m?\u001b[0m eta \u001b[36m-:--:--\u001b[0m\r\u001b[2K   \u001b[90m━━━━━━━━━━━━━━━━━━━━━━━━━━━━━━━━━━━━━━━━\u001b[0m \u001b[32m232.6/232.6 kB\u001b[0m \u001b[31m11.1 MB/s\u001b[0m eta \u001b[36m0:00:00\u001b[0m\n",
            "\u001b[?25hInstalling collected packages: PyPDF2\n",
            "Successfully installed PyPDF2-3.0.1\n",
            "Collecting pytesseract\n",
            "  Downloading pytesseract-0.3.13-py3-none-any.whl.metadata (11 kB)\n",
            "Requirement already satisfied: packaging>=21.3 in /usr/local/lib/python3.11/dist-packages (from pytesseract) (24.2)\n",
            "Requirement already satisfied: Pillow>=8.0.0 in /usr/local/lib/python3.11/dist-packages (from pytesseract) (11.1.0)\n",
            "Downloading pytesseract-0.3.13-py3-none-any.whl (14 kB)\n",
            "Installing collected packages: pytesseract\n",
            "Successfully installed pytesseract-0.3.13\n",
            "Collecting pdf2image\n",
            "  Downloading pdf2image-1.17.0-py3-none-any.whl.metadata (6.2 kB)\n",
            "Requirement already satisfied: pillow in /usr/local/lib/python3.11/dist-packages (from pdf2image) (11.1.0)\n",
            "Downloading pdf2image-1.17.0-py3-none-any.whl (11 kB)\n",
            "Installing collected packages: pdf2image\n",
            "Successfully installed pdf2image-1.17.0\n",
            "Reading package lists... Done\n",
            "Building dependency tree... Done\n",
            "Reading state information... Done\n",
            "The following NEW packages will be installed:\n",
            "  poppler-utils\n",
            "0 upgraded, 1 newly installed, 0 to remove and 29 not upgraded.\n",
            "Need to get 186 kB of archives.\n",
            "After this operation, 696 kB of additional disk space will be used.\n",
            "Get:1 http://archive.ubuntu.com/ubuntu jammy-updates/main amd64 poppler-utils amd64 22.02.0-2ubuntu0.6 [186 kB]\n",
            "Fetched 186 kB in 0s (1,633 kB/s)\n",
            "Selecting previously unselected package poppler-utils.\n",
            "(Reading database ... 125044 files and directories currently installed.)\n",
            "Preparing to unpack .../poppler-utils_22.02.0-2ubuntu0.6_amd64.deb ...\n",
            "Unpacking poppler-utils (22.02.0-2ubuntu0.6) ...\n",
            "Setting up poppler-utils (22.02.0-2ubuntu0.6) ...\n",
            "Processing triggers for man-db (2.10.2-1) ...\n"
          ]
        }
      ]
    },
    {
      "cell_type": "code",
      "source": [
        "!apt-get install -y poppler-utils\n"
      ],
      "metadata": {
        "colab": {
          "base_uri": "https://localhost:8080/"
        },
        "id": "Bn6Kcis0tYuM",
        "outputId": "8425ffac-9b7b-4567-e249-61aec5887e52"
      },
      "execution_count": null,
      "outputs": [
        {
          "output_type": "stream",
          "name": "stdout",
          "text": [
            "Reading package lists... Done\n",
            "Building dependency tree... Done\n",
            "Reading state information... Done\n",
            "poppler-utils is already the newest version (22.02.0-2ubuntu0.6).\n",
            "0 upgraded, 0 newly installed, 0 to remove and 29 not upgraded.\n"
          ]
        }
      ]
    },
    {
      "cell_type": "code",
      "execution_count": null,
      "metadata": {
        "id": "5t6bo_iPm2hT"
      },
      "outputs": [],
      "source": [
        "# import pandas as pd\n",
        "# import numpy as np\n",
        "# import matplotlib.pyplot as plt\n",
        "\n",
        "# # Define the work hardening function\n",
        "# def work_hardening(true_stress, true_strain):\n",
        "#     if len(true_stress) != len(true_strain):\n",
        "#         raise ValueError(\"true_stress and true_strain must have the same length\")\n",
        "\n",
        "#     if len(true_stress) < 2:\n",
        "#         return np.array([])\n",
        "\n",
        "#     work_hardening_rate = np.diff(true_stress) / np.diff(true_strain)\n",
        "#     return work_hardening_rate\n",
        "\n",
        "# # Read the Excel file\n",
        "# data = pd.read_excel('Eng Values.xlsx')\n",
        "# if 't.stress' not in data.columns and 't.strain' not in data.columns:\n",
        "#     data['t.stress'] = data['eng.stress'] * (1 + data['eng.strain'])\n",
        "#     data['t.strain'] = np.log(1 + data['eng.strain'])\n",
        "\n",
        "# # Filter to include only positive values\n",
        "# data = data[(data['t.stress'] > 0) & (data['t.strain'] > 0)]\n",
        "\n",
        "# # Choose the degree of the polynomial\n",
        "# degree = 5\n",
        "\n",
        "# # Perform the polynomial fit using the correct column names\n",
        "# coefficients = np.polyfit(data['t.strain'], data['t.stress'], degree)\n",
        "\n",
        "# # Create a polynomial function from the coefficients\n",
        "# polynomial = np.poly1d(coefficients)\n",
        "\n",
        "# # Generate 100 evenly spaced values over the range of the original true strain values\n",
        "# new_true_strain = np.linspace(data['t.strain'].min(), data['t.strain'].max() - 0.01, 100)\n",
        "\n",
        "# # Evaluate the polynomial at the new strain values\n",
        "# fitted_true_stress = polynomial(new_true_strain)\n",
        "\n",
        "# # Create a new DataFrame to store the fitted values\n",
        "# fitted_data = pd.DataFrame({\n",
        "#     't.strain': new_true_strain,\n",
        "#     't.stress': fitted_true_stress\n",
        "# })\n",
        "\n",
        "# # Optionally, plot the original data and the fitted polynomial\n",
        "# plt.scatter(data['t.strain'], data['t.stress'], label='Original Data', color='blue')\n",
        "# plt.plot(new_true_strain, fitted_true_stress, label=f'Polynomial Fit (degree={degree})', color='red')\n",
        "# plt.xlabel('True Strain')\n",
        "# plt.ylabel('True Stress')\n",
        "# plt.legend()\n",
        "# plt.show()\n",
        "\n",
        "# # Calculate Work Hardening Rate\n",
        "# work_hardening_rate = work_hardening(fitted_true_stress, new_true_strain)\n",
        "\n",
        "# # Add NaN to make the length equal to the original arrays\n",
        "# work_hardening_rate_padded = np.append(work_hardening_rate, np.nan)\n",
        "\n",
        "# # Identify the first index where the work hardening rate starts to increase\n",
        "# first_index = 0\n",
        "\n",
        "# # Create a new DataFrame for fitted data\n",
        "# fitted_data = fitted_data.iloc[first_index:].reset_index(drop=True)\n",
        "\n",
        "# # Update the work hardening rate in the fitted data DataFrame\n",
        "# fitted_data['hard.Rate'] = np.append(work_hardening_rate[first_index:], np.nan)\n",
        "\n",
        "# # Remove negative work hardening rates and corresponding stress and strain\n",
        "# fitted_data = fitted_data[fitted_data['hard.Rate'] > 0].reset_index(drop=True)\n",
        "\n",
        "# # Save the fitted data to a new Excel file\n",
        "# fitted_data.to_excel('fitted_hard_rate_cal.xlsx', index=False)"
      ]
    },
    {
      "cell_type": "code",
      "execution_count": null,
      "metadata": {
        "id": "L0-_NCu10ENn"
      },
      "outputs": [],
      "source": [
        "# # Define column names\n",
        "x_axis = 't.strain'\n",
        "y1_axis = 't.stress'\n",
        "y2_axis = 'hard.Rate'\n",
        "\n",
        "# Set the value of k for spline interpolation\n",
        "k_value = 5\n",
        "\n",
        "ee = 0.001\n",
        "\n",
        "# Excel data file path\n",
        "file_path = '/content/fitted_hard_rate_cal.xlsx'\n",
        "\n",
        "# PDF path for the research paper\n",
        "pdf_file_path = \"/content/rs.pdf\"\n",
        "\n",
        "# link to the research paper\n",
        "link = \"http://www/google.com\"\n",
        "\n",
        "\n",
        "# Keywords to search for\n",
        "keywords = {\"stress\", \"strain\", \"additive manufacturing\", \"cast\", \"forge\", \"powder\", \"rolling\", \"extrusion\"}\n"
      ]
    },
    {
      "cell_type": "markdown",
      "metadata": {
        "id": "W2QAH64gaUEV"
      },
      "source": [
        "# All import statments"
      ]
    },
    {
      "cell_type": "code",
      "execution_count": null,
      "metadata": {
        "colab": {
          "base_uri": "https://localhost:8080/"
        },
        "id": "i7gbVRyUaTsv",
        "outputId": "fc329006-22b9-4508-ad1b-e82c9e0c7950"
      },
      "outputs": [
        {
          "output_type": "stream",
          "name": "stdout",
          "text": [
            "Requirement already satisfied: PyPDF2 in /usr/local/lib/python3.11/dist-packages (3.0.1)\n",
            "Reading package lists... Done\n",
            "Building dependency tree... Done\n",
            "Reading state information... Done\n",
            "poppler-utils is already the newest version (22.02.0-2ubuntu0.6).\n",
            "0 upgraded, 0 newly installed, 0 to remove and 29 not upgraded.\n",
            "Reading package lists... Done\n",
            "Building dependency tree... Done\n",
            "Reading state information... Done\n",
            "The following additional packages will be installed:\n",
            "  tesseract-ocr-eng tesseract-ocr-osd\n",
            "The following NEW packages will be installed:\n",
            "  tesseract-ocr tesseract-ocr-eng tesseract-ocr-osd\n",
            "0 upgraded, 3 newly installed, 0 to remove and 29 not upgraded.\n",
            "Need to get 4,816 kB of archives.\n",
            "After this operation, 15.6 MB of additional disk space will be used.\n",
            "Get:1 http://archive.ubuntu.com/ubuntu jammy/universe amd64 tesseract-ocr-eng all 1:4.00~git30-7274cfa-1.1 [1,591 kB]\n",
            "Get:2 http://archive.ubuntu.com/ubuntu jammy/universe amd64 tesseract-ocr-osd all 1:4.00~git30-7274cfa-1.1 [2,990 kB]\n",
            "Get:3 http://archive.ubuntu.com/ubuntu jammy/universe amd64 tesseract-ocr amd64 4.1.1-2.1build1 [236 kB]\n",
            "Fetched 4,816 kB in 1s (4,638 kB/s)\n",
            "debconf: unable to initialize frontend: Dialog\n",
            "debconf: (No usable dialog-like program is installed, so the dialog based frontend cannot be used. at /usr/share/perl5/Debconf/FrontEnd/Dialog.pm line 78, <> line 3.)\n",
            "debconf: falling back to frontend: Readline\n",
            "debconf: unable to initialize frontend: Readline\n",
            "debconf: (This frontend requires a controlling tty.)\n",
            "debconf: falling back to frontend: Teletype\n",
            "dpkg-preconfigure: unable to re-open stdin: \n",
            "Selecting previously unselected package tesseract-ocr-eng.\n",
            "(Reading database ... 125074 files and directories currently installed.)\n",
            "Preparing to unpack .../tesseract-ocr-eng_1%3a4.00~git30-7274cfa-1.1_all.deb ...\n",
            "Unpacking tesseract-ocr-eng (1:4.00~git30-7274cfa-1.1) ...\n",
            "Selecting previously unselected package tesseract-ocr-osd.\n",
            "Preparing to unpack .../tesseract-ocr-osd_1%3a4.00~git30-7274cfa-1.1_all.deb ...\n",
            "Unpacking tesseract-ocr-osd (1:4.00~git30-7274cfa-1.1) ...\n",
            "Selecting previously unselected package tesseract-ocr.\n",
            "Preparing to unpack .../tesseract-ocr_4.1.1-2.1build1_amd64.deb ...\n",
            "Unpacking tesseract-ocr (4.1.1-2.1build1) ...\n",
            "Setting up tesseract-ocr-eng (1:4.00~git30-7274cfa-1.1) ...\n",
            "Setting up tesseract-ocr-osd (1:4.00~git30-7274cfa-1.1) ...\n",
            "Setting up tesseract-ocr (4.1.1-2.1build1) ...\n",
            "Processing triggers for man-db (2.10.2-1) ...\n",
            "Requirement already satisfied: pytesseract in /usr/local/lib/python3.11/dist-packages (0.3.13)\n",
            "Requirement already satisfied: packaging>=21.3 in /usr/local/lib/python3.11/dist-packages (from pytesseract) (24.2)\n",
            "Requirement already satisfied: Pillow>=8.0.0 in /usr/local/lib/python3.11/dist-packages (from pytesseract) (11.1.0)\n",
            "Requirement already satisfied: pytesseract in /usr/local/lib/python3.11/dist-packages (0.3.13)\n",
            "Requirement already satisfied: pdf2image in /usr/local/lib/python3.11/dist-packages (1.17.0)\n",
            "Requirement already satisfied: packaging>=21.3 in /usr/local/lib/python3.11/dist-packages (from pytesseract) (24.2)\n",
            "Requirement already satisfied: Pillow>=8.0.0 in /usr/local/lib/python3.11/dist-packages (from pytesseract) (11.1.0)\n",
            "Reading package lists... Done\n",
            "Building dependency tree... Done\n",
            "Reading state information... Done\n",
            "tesseract-ocr is already the newest version (4.1.1-2.1build1).\n",
            "0 upgraded, 0 newly installed, 0 to remove and 29 not upgraded.\n",
            "Requirement already satisfied: pytesseract in /usr/local/lib/python3.11/dist-packages (0.3.13)\n",
            "Requirement already satisfied: pdf2image in /usr/local/lib/python3.11/dist-packages (1.17.0)\n",
            "Requirement already satisfied: PyPDF2 in /usr/local/lib/python3.11/dist-packages (3.0.1)\n",
            "Requirement already satisfied: packaging>=21.3 in /usr/local/lib/python3.11/dist-packages (from pytesseract) (24.2)\n",
            "Requirement already satisfied: Pillow>=8.0.0 in /usr/local/lib/python3.11/dist-packages (from pytesseract) (11.1.0)\n"
          ]
        },
        {
          "output_type": "stream",
          "name": "stderr",
          "text": [
            "[nltk_data] Downloading package punkt to /root/nltk_data...\n",
            "[nltk_data]   Unzipping tokenizers/punkt.zip.\n",
            "[nltk_data] Downloading package stopwords to /root/nltk_data...\n",
            "[nltk_data]   Unzipping corpora/stopwords.zip.\n",
            "[nltk_data] Downloading package wordnet to /root/nltk_data...\n",
            "[nltk_data] Downloading package averaged_perceptron_tagger to\n",
            "[nltk_data]     /root/nltk_data...\n",
            "[nltk_data]   Unzipping taggers/averaged_perceptron_tagger.zip.\n"
          ]
        },
        {
          "output_type": "execute_result",
          "data": {
            "text/plain": [
              "True"
            ]
          },
          "metadata": {},
          "execution_count": 5
        }
      ],
      "source": [
        "# Install PyPDF2 package\n",
        "!pip install PyPDF2\n",
        "!apt-get install poppler-utils\n",
        "!sudo apt install tesseract-ocr\n",
        "!pip install pytesseract\n",
        "!pip install pytesseract pdf2image\n",
        "!sudo apt install tesseract-ocr\n",
        "!pip install pytesseract pdf2image PyPDF2\n",
        "\n",
        "# Set the path to the Tesseract executable\n",
        "import pytesseract\n",
        "pytesseract.pytesseract.tesseract_cmd = r'/usr/bin/tesseract'\n",
        "import numpy as np\n",
        "import pandas as pd\n",
        "import matplotlib.pyplot as plt\n",
        "from scipy.interpolate import make_interp_spline, CubicSpline\n",
        "import re\n",
        "from PyPDF2 import PdfReader\n",
        "import nltk\n",
        "from nltk.tokenize import word_tokenize\n",
        "from nltk.corpus import stopwords, wordnet\n",
        "from nltk.stem import WordNetLemmatizer\n",
        "import string\n",
        "import json\n",
        "import os\n",
        "import PyPDF2\n",
        "\n",
        "\n",
        "\n",
        "# Download NLTK resources\n",
        "nltk.download('punkt')\n",
        "nltk.download('stopwords')\n",
        "nltk.download('wordnet')\n",
        "nltk.download('averaged_perceptron_tagger')\n"
      ]
    },
    {
      "cell_type": "code",
      "execution_count": null,
      "metadata": {
        "id": "hfuCtgo002he",
        "colab": {
          "base_uri": "https://localhost:8080/"
        },
        "outputId": "7b759a6c-6c93-4858-ae0f-9dd7de0ede96"
      },
      "outputs": [
        {
          "output_type": "stream",
          "name": "stderr",
          "text": [
            "[nltk_data] Downloading package punkt to /root/nltk_data...\n",
            "[nltk_data]   Package punkt is already up-to-date!\n",
            "[nltk_data] Downloading package stopwords to /root/nltk_data...\n",
            "[nltk_data]   Package stopwords is already up-to-date!\n",
            "[nltk_data] Downloading package wordnet to /root/nltk_data...\n",
            "[nltk_data]   Package wordnet is already up-to-date!\n",
            "[nltk_data] Downloading package averaged_perceptron_tagger to\n",
            "[nltk_data]     /root/nltk_data...\n",
            "[nltk_data]   Package averaged_perceptron_tagger is already up-to-\n",
            "[nltk_data]       date!\n"
          ]
        }
      ],
      "source": [
        "import utils"
      ]
    },
    {
      "cell_type": "markdown",
      "metadata": {
        "id": "q9Hvtk4RYLaN"
      },
      "source": [
        "- The above code block assigns the values to variables.\n",
        "- x_axis: column name of the x-axis in Excel sheet\n",
        "- y_axis: column name of the y-axis in Excel sheet\n",
        "- k_value is the polynomial degree which will be used to find the b0 value.\n",
        "- flie_path: The path of the Excel sheet\n",
        "- pdf_file_path: The file path of the research paper (format as pdf)\n",
        "- keywords: An array of keywords that you wish to find in the research paper.\n",
        "\n"
      ]
    },
    {
      "cell_type": "code",
      "execution_count": null,
      "metadata": {
        "id": "x2AX4Lai7HMP",
        "colab": {
          "base_uri": "https://localhost:8080/"
        },
        "outputId": "23c71f3b-5950-44f6-882e-3f5ada538419"
      },
      "outputs": [
        {
          "output_type": "stream",
          "name": "stdout",
          "text": [
            "Mounted at /content/drive\n"
          ]
        }
      ],
      "source": [
        "from google.colab import drive\n",
        "import os\n",
        "import pandas as pd\n",
        "\n",
        "# Mount Google Drive\n",
        "drive.mount('/content/drive')\n",
        "\n",
        "# Directory containing all the data folders\n",
        "data_directory = \"/content/drive/MyDrive/Colab Notebooks/Material_Science/0318\"\n"
      ]
    },
    {
      "cell_type": "markdown",
      "metadata": {
        "id": "H2509BHtGQI6"
      },
      "source": [
        "# Find best paraameters"
      ]
    },
    {
      "cell_type": "code",
      "execution_count": null,
      "metadata": {
        "id": "9MntwhDKr7bW"
      },
      "outputs": [],
      "source": [
        "# Changing the data points to change accomodate the current implementation\n",
        "\n"
      ]
    },
    {
      "cell_type": "markdown",
      "metadata": {
        "id": "FW2dj6B-KR7f"
      },
      "source": [
        "# Find Best B0 in a method"
      ]
    },
    {
      "cell_type": "code",
      "execution_count": null,
      "metadata": {
        "id": "ZuJDxeEAKV2Z"
      },
      "outputs": [],
      "source": [
        "import pandas as pd\n",
        "import numpy as np\n",
        "import matplotlib.pyplot as plt\n",
        "from scipy.interpolate import make_interp_spline\n",
        "\n",
        "def calculate_b0_range(file_path, x_axis, y2_axis, k_value):\n",
        "\n",
        "    # Read Excel file\n",
        "    df = pd.read_excel(file_path)\n",
        "\n",
        "    # Remove the last row\n",
        "    df = df.drop(df.tail(2).index)\n",
        "\n",
        "    # Extract x and y columns\n",
        "    x = df[x_axis].values\n",
        "    y = df[y2_axis].values\n",
        "\n",
        "    # Check for and handle NaN or infinite values\n",
        "    mask = np.isfinite(x) & np.isfinite(y)\n",
        "    x = x[mask]\n",
        "    y = y[mask]\n",
        "    minimum = 130000\n",
        "    for i in range(len(y)):\n",
        "      minimum = min(minimum, y[i-1] - y[i])\n",
        "    threshold = minimum\n",
        "    threshold = 10\n",
        "    # Extract x and y values\n",
        "    indication = 1\n",
        "    for k in range(1, len(y)):\n",
        "        if y[k] > y[k - 1]:\n",
        "            indication = 0\n",
        "\n",
        "    if indication == 1:\n",
        "        # Identify where the differences in y-values are below the threshold\n",
        "        y_diff = np.diff(y)\n",
        "        close_indices = np.where(np.abs(y_diff) < threshold)[0]\n",
        "\n",
        "        if len(close_indices) > 0:\n",
        "            clusters = []\n",
        "            current_cluster = [close_indices[0]]\n",
        "\n",
        "            for i in range(1, len(close_indices)):\n",
        "                if close_indices[i] == close_indices[i-1] + 1:\n",
        "                    current_cluster.append(close_indices[i])\n",
        "                else:\n",
        "                    if len(current_cluster) > 1 and current_cluster[0] != 0:\n",
        "                        clusters.append(current_cluster)\n",
        "                    current_cluster = [close_indices[i]]\n",
        "\n",
        "            if len(current_cluster) > 1 and current_cluster[0] != 0:\n",
        "                clusters.append(current_cluster)\n",
        "\n",
        "            if clusters:\n",
        "                # Find the longest cluster\n",
        "                longest_cluster = max(clusters, key=len)\n",
        "                count = 0\n",
        "                total_count = len(longest_cluster) // 2\n",
        "\n",
        "                for i in longest_cluster:\n",
        "                    if count < total_count:\n",
        "                        y[i] = y[i-1] + 1\n",
        "                    else:\n",
        "                        y[i] = y[i-1] - 1\n",
        "                    count += 1\n",
        "\n",
        "    # Perform cubic spline interpolation\n",
        "    spline_interp = make_interp_spline(x, y, k=k_value)\n",
        "\n",
        "    # Generate new x values for interpolation\n",
        "    x_new = np.linspace(min(x), max(x), 100)\n",
        "\n",
        "    # Perform interpolation\n",
        "    y_new = spline_interp(x_new)\n",
        "\n",
        "    # Fit cubic polynomial to the entire dataset\n",
        "    coefficients = np.polyfit(x, y, k_value)\n",
        "\n",
        "    # Print the coefficients\n",
        "    print(\"Cubic Polynomial Coefficients:\", coefficients)\n",
        "\n",
        "    # Generate y values for the cubic polynomial\n",
        "    y_cubic = np.polyval(coefficients, x_new)\n",
        "\n",
        "    # Dynamic equation print\n",
        "    cubic_equation = \"Polynomial Equation: \"\n",
        "    for i, coef in enumerate(coefficients):\n",
        "        cubic_equation += f\"{coef:.6f} x^{k_value-i} + \" if i < k_value else f\"{coef:.6f}\"\n",
        "    print()\n",
        "\n",
        "    # Remove the trailing ' + ' at the end\n",
        "    cubic_equation = cubic_equation.rstrip(' + ')\n",
        "    print(cubic_equation)\n",
        "    print()\n",
        "\n",
        "    # Take the derivative of the polynomial\n",
        "    derivative_coefficients = np.polyder(coefficients)\n",
        "\n",
        "    # Dynamic equation print for the derivative\n",
        "    derivative_equation = \"Derivative Equation: \"\n",
        "    for i, coef in enumerate(derivative_coefficients):\n",
        "        derivative_equation += f\"{coef:.6f} x^{k_value-1 -i} + \" if i < k_value-1 else f\"{coef:.6f}\"\n",
        "\n",
        "    # Remove the trailing ' + ' at the end\n",
        "    derivative_equation = derivative_equation.rstrip(' + ')\n",
        "    print(derivative_equation)\n",
        "    print()\n",
        "\n",
        "    # Find the roots (zeros) of the derivative equation\n",
        "    roots = np.roots(derivative_coefficients)\n",
        "    print(\"Roots (Zeros) of the Derivative Equation:\", roots)\n",
        "    print()\n",
        "\n",
        "    # Calculate y values for each root using the original cubic polynomial\n",
        "    y_roots = np.polyval(coefficients, roots)\n",
        "\n",
        "    # Print the corresponding y values for the roots\n",
        "    for i, root in enumerate(roots):\n",
        "        print(f\"For x = {root:.6f}, y = {y_roots[i]:.6f}\")\n",
        "    print()\n",
        "\n",
        "    # Plot the original data, interpolated curve, and cubic polynomial\n",
        "    plt.scatter(x, y, label='Original Data')\n",
        "    plt.plot(x_new, y_new, label='Interpolated Curve', color='red')\n",
        "    plt.plot(x_new, y_cubic, label='Polynomial', linestyle='dashed', color='green')\n",
        "    plt.xlabel('X-axis')\n",
        "    plt.ylabel('Y-axis')\n",
        "    plt.legend()\n",
        "    plt.title('Interpolation and Polynomial Fit')\n",
        "    plt.show()\n",
        "\n",
        "    # Filter out the original y values and assign them back\n",
        "    y_roots = [np.real(y_roots[i]) for i in range(len(roots)) if np.isclose(np.imag(y_roots[i]), 0)]\n",
        "\n",
        "    # Print the corresponding y values for the original roots\n",
        "    print(\"Original Y Values for the Roots:\")\n",
        "    for root, y_value in zip(roots, y_roots):\n",
        "        if np.isclose(np.imag(y_value), 0):\n",
        "            print(f\"For x = {root:.6f}, y = {y_value:.6f}\")\n",
        "    print()\n",
        "\n",
        "    # Sort the y_roots array\n",
        "    y_roots_sorted = np.sort(y_roots)\n",
        "\n",
        "    # Find the differences between consecutive roots\n",
        "    differences = np.diff(y_roots_sorted)\n",
        "\n",
        "    # Find the index of the minimum difference\n",
        "    min_diff_index = np.argmin(differences)\n",
        "\n",
        "    # Determine the indices of the two closest roots\n",
        "    index1 = min_diff_index\n",
        "    index2 = min_diff_index + 1\n",
        "\n",
        "    # Store the minimum and maximum values\n",
        "    min_b0 = min(y_roots_sorted[index1], y_roots_sorted[index2])\n",
        "    max_b0 = max(y_roots_sorted[index1], y_roots_sorted[index2])\n",
        "\n",
        "    print(\"Minimum b0:\", min_b0)\n",
        "    print(\"Maximum b0:\", max_b0)\n",
        "\n",
        "    # Round down min_b0 to the nearest hundred\n",
        "    rounded_min_b0 = int(min_b0 // 100) * 100\n",
        "\n",
        "    # Calculate from_b0 and to_b0\n",
        "    from_b0 = rounded_min_b0 - 100\n",
        "    to_b0 = rounded_min_b0 + 200\n",
        "\n",
        "    # Print from_b0 and to_b0\n",
        "    print(\"From_b0:\", from_b0)\n",
        "    print(\"To_b0:\", to_b0)\n",
        "\n",
        "    return from_b0, to_b0"
      ]
    },
    {
      "cell_type": "markdown",
      "metadata": {
        "id": "gxS3MbGKZwpz"
      },
      "source": [
        "- The above code find the best b0_value.\n",
        "- Step 1: Generate a polynomial equation of k degree.\n",
        "- Step 2: Find the derivative of that equation.\n",
        "- Step 3: Find the roots of that derivative.\n",
        "- Step 4: Substitute the roots in the original equation to get the b0_values.\n",
        "- The number of b0_values that you get is k-1."
      ]
    },
    {
      "cell_type": "markdown",
      "metadata": {
        "id": "YpCVXX-jaSVE"
      },
      "source": [
        "- The above code extracts the original b0_values.\n",
        "- The 2 y values that are close to each other are the original values out of all the values."
      ]
    },
    {
      "cell_type": "markdown",
      "metadata": {
        "id": "EM5N-mMeasOX"
      },
      "source": [
        "- To get accurate b0_values we consider some values which are less than and greater than b0_values."
      ]
    },
    {
      "cell_type": "markdown",
      "metadata": {
        "id": "kbJ3XV1YMO5j"
      },
      "source": [
        "# Find Best D1 in a method"
      ]
    },
    {
      "cell_type": "code",
      "execution_count": null,
      "metadata": {
        "id": "8t0XS9jiMRxk"
      },
      "outputs": [],
      "source": [
        "import pandas as pd\n",
        "import numpy as np\n",
        "import matplotlib.pyplot as plt\n",
        "from scipy.interpolate import CubicSpline\n",
        "\n",
        "def calculate_min_max_slope(file_path, x_axis, y2_axis):\n",
        "    # Set display options to show all rows and columns\n",
        "    pd.set_option('display.max_rows', None)\n",
        "    pd.set_option('display.max_columns', None)\n",
        "\n",
        "    # Define the column names\n",
        "    column_names = [x_axis, y2_axis]\n",
        "\n",
        "    # Read only the specified columns from Excel file\n",
        "    data = pd.read_excel(file_path, usecols=column_names)\n",
        "\n",
        "    # Drop rows with missing or non-finite values\n",
        "    data.dropna(inplace=True)\n",
        "\n",
        "\n",
        "    # Extract x and y values\n",
        "    x = data[column_names[0]].values\n",
        "    y = data[column_names[1]].values\n",
        "\n",
        "    minimum = 130000\n",
        "    for i in range(1, len(y)):\n",
        "      minimum = min(minimum, y[i-1]-y[i])\n",
        "    threshold = minimum\n",
        "    # print(threshold)\n",
        "    threshold = 10\n",
        "    indication = 1\n",
        "    for k in range(1, len(y)):\n",
        "        if y[k] > y[k - 1]:\n",
        "            indication = 0\n",
        "    if indication == 1:\n",
        "        # Identify where the differences in y-values are below the threshold\n",
        "        y_diff = np.diff(y)\n",
        "        close_indices = np.where(np.abs(y_diff) < threshold)[0]\n",
        "\n",
        "        if len(close_indices) > 0:\n",
        "            clusters = []\n",
        "            current_cluster = [close_indices[0]]\n",
        "\n",
        "            for i in range(1, len(close_indices)):\n",
        "                if close_indices[i] == close_indices[i-1] + 1:\n",
        "                    current_cluster.append(close_indices[i])\n",
        "                else:\n",
        "                    if len(current_cluster) > 1 and current_cluster[0] != 0:\n",
        "                        clusters.append(current_cluster)\n",
        "                    current_cluster = [close_indices[i]]\n",
        "\n",
        "            if len(current_cluster) > 1 and current_cluster[0] != 0:\n",
        "                clusters.append(current_cluster)\n",
        "\n",
        "            if clusters:\n",
        "                # Find the longest cluster\n",
        "                longest_cluster = max(clusters, key=len)\n",
        "                count = 0\n",
        "                total_count = len(longest_cluster) // 2\n",
        "\n",
        "                for i in longest_cluster:\n",
        "                    if count < total_count:\n",
        "                        y[i] = y[i-1] + 1\n",
        "                    else:\n",
        "                        y[i] = y[i-1] - 1\n",
        "                    count += 1\n",
        "\n",
        "    # Fit a cubic spline to the data\n",
        "    cs = CubicSpline(x, y)\n",
        "    # Calculate the slope for each data point\n",
        "    slopes = cs(x, 1)\n",
        "\n",
        "    # Print the slopes along with their corresponding x and y values\n",
        "    print(\"Point   |   x       |   y       |   Slope\")\n",
        "    print(\"---------------------------------------------\")\n",
        "    for i, (x_val, y_val, slope_val) in enumerate(zip(x, y, slopes)):\n",
        "        print(f\"{i+1}       |   {x_val:.3f}   |   {y_val:.3f}   |   {slope_val:.3f}\")\n",
        "\n",
        "    # Plot the original data and cubic spline\n",
        "    plt.figure(figsize=(12, 8))\n",
        "    plt.plot(x, y, 'bo', label='Data')\n",
        "    plt.plot(x, cs(x), 'r-', label='Cubic Spline')\n",
        "    plt.xlabel(column_names[0])\n",
        "    plt.ylabel(column_names[1])\n",
        "    plt.title('Original Data and Cubic Spline Fit')\n",
        "    plt.legend()\n",
        "    plt.show()\n",
        "\n",
        "    # Filter out negative slopes and their corresponding x, y values\n",
        "    positive_slope_indices = np.where(slopes > 0)[0]\n",
        "    x_positive = x[positive_slope_indices]\n",
        "    y_positive = y[positive_slope_indices]\n",
        "\n",
        "    # Calculate the differences between consecutive slopes\n",
        "    slope_diffs = np.diff(slopes[positive_slope_indices])\n",
        "\n",
        "    # Consider only the first 10 values or the available maximum\n",
        "    max_values = min(5, len(x_positive))\n",
        "    x_positive = x_positive[:max_values]\n",
        "    y_positive = y_positive[:max_values]\n",
        "    slope_diffs = slope_diffs[:max_values-1]  # As there are max_values-1 differences for max_values values\n",
        "\n",
        "    # Initialize an empty array to store the slopes for which the information is printed\n",
        "    printed_slopes = []\n",
        "\n",
        "    # Plot the original data and cubic spline\n",
        "    plt.figure(figsize=(12, 8))\n",
        "    plt.plot(x, y, 'bo', label='Data')\n",
        "    plt.plot(x, cs(x), 'r-', label='Cubic Spline')\n",
        "    plt.xlabel(column_names[0])\n",
        "    plt.ylabel(column_names[1])\n",
        "    plt.title('Original Data and Cubic Spline Fit')\n",
        "    plt.legend()\n",
        "\n",
        "    # Add point numbers with a gap above the points in the plot\n",
        "    gap = 50  # Adjust the gap as needed\n",
        "    for i, (x_val, y_val) in enumerate(zip(x_positive, y_positive)):\n",
        "        plt.text(x_val, y_val + gap, f\"{i+1}\", fontsize=10, ha='center', va='center')\n",
        "        printed_slopes.append(slopes[positive_slope_indices][i])\n",
        "\n",
        "    plt.grid(True)\n",
        "\n",
        "    # Store data point, x, y, and its difference in a new array\n",
        "    data_and_differences = np.column_stack((x_positive[:-1], y_positive[:-1], slope_diffs, printed_slopes[:-1]))\n",
        "\n",
        "    print(\"Data Point | x Value | y Value | Difference | Slope:\")\n",
        "    print(\"----------------------------------------------------\")\n",
        "    for i, (x_val, y_val, diff, slope) in enumerate(data_and_differences):\n",
        "        print(f\"{i+1}       |   {x_val:.3f}   |   {y_val:.3f}   |   {diff:.3f}   |   {slope:.3f}\")\n",
        "\n",
        "    # Calculate the average of the slopes\n",
        "    average_slope_printed = np.mean(printed_slopes[:-1])\n",
        "    print(\"\\nAverage Slope of Printed Slopes:\", average_slope_printed)\n",
        "\n",
        "    plt.show()\n",
        "\n",
        "    max_d1 = printed_slopes[0]\n",
        "    min_d1 = printed_slopes[0]\n",
        "\n",
        "    # Iterate through printed slopes to find max and min\n",
        "    for slope in printed_slopes[1:]:\n",
        "        if slope > max_d1:\n",
        "            max_d1 = slope\n",
        "        elif slope < min_d1:\n",
        "            min_d1 = slope\n",
        "\n",
        "    # Print the maximum and minimum slopes\n",
        "    print(\"\\nMinimum Slope:\", min_d1)\n",
        "    print(\"Maximum Slope:\", max_d1)\n",
        "    if max_d1 - min_d1 > 10000:\n",
        "      max_d1 = min_d1 + 10000\n",
        "    return int(min_d1), int(max_d1)"
      ]
    },
    {
      "cell_type": "markdown",
      "metadata": {
        "id": "16ROasD3a5XK"
      },
      "source": [
        "- The above code generate the slopes of the curve at each data points."
      ]
    },
    {
      "cell_type": "markdown",
      "metadata": {
        "id": "w6CMnL7VbNTt"
      },
      "source": [
        "- The above code calculates the difference between consecutive slopes."
      ]
    },
    {
      "cell_type": "markdown",
      "metadata": {
        "id": "9miHF67-bXTv"
      },
      "source": [
        "- The above code narrow down the slopes.\n",
        "- It finds the slope where there is a rapid change in the first part of the curve, the d1 ranges somewhere near that slope."
      ]
    },
    {
      "cell_type": "markdown",
      "metadata": {
        "id": "kOdQPko5brDy"
      },
      "source": [
        "- The above code finds the average slope out of the narrowed slopes."
      ]
    },
    {
      "cell_type": "markdown",
      "metadata": {
        "id": "LwbV19Rjb1Yt"
      },
      "source": [
        "- The above considers the maximum and minimum slopes in the narrowed slopes.\n",
        "- The d1 lies between the minimum and maximum slope."
      ]
    },
    {
      "cell_type": "markdown",
      "metadata": {
        "id": "M1o0z4xoN-3g"
      },
      "source": [
        "# Find all best parametes in a methods"
      ]
    },
    {
      "cell_type": "code",
      "execution_count": null,
      "metadata": {
        "id": "GJKkPnowOCV5"
      },
      "outputs": [],
      "source": [
        "import pandas as pd\n",
        "import numpy as np\n",
        "from itertools import product\n",
        "\n",
        "def find_best_parameters(file_path, x_axis, y2_axis, from_b0, to_b0, min_d1, max_d1, ee):\n",
        "\n",
        "    # Read data from Excel file\n",
        "    data = pd.read_excel(file_path)\n",
        "    original_results = data[y2_axis].values\n",
        "    ep_values = data[x_axis].values\n",
        "\n",
        "    # Vectorized calculation of MSE\n",
        "    def calculate_mse_vectorized(b0, d1, d2, ei, original_results):\n",
        "        ep_diff = (ep_values - ei) / (ei + ee)\n",
        "        condition = np.abs(ep_diff) < 1\n",
        "        arctanh_values = np.arctanh(ep_diff[condition])\n",
        "\n",
        "        result = b0 - d1 * ((np.abs(ep_diff[condition]) * arctanh_values) - (d2 * ep_diff[condition]))\n",
        "        mse = np.mean((original_results[:len(result)] - result) ** 2)\n",
        "        euclidean_distance = np.sqrt(np.sum((original_results[:len(result)] - result) ** 2))\n",
        "\n",
        "        return euclidean_distance\n",
        "\n",
        "    # Generate grid of parameters\n",
        "    b0_values = np.arange(from_b0, to_b0, 10)\n",
        "    d1_values = np.arange(min_d1, max_d1, 5)\n",
        "    d2_values = np.arange(0.2, 0.5, 0.05)\n",
        "    ei_values = np.arange(0.1, 0.285, 0.05)\n",
        "\n",
        "    # Use itertools.product to create a grid of parameters\n",
        "    param_grid = product(b0_values, d1_values, d2_values, ei_values)\n",
        "\n",
        "    # Initialize variables to store best parameters\n",
        "    best_b0, best_d1, best_d2, best_ei = None, None, None, None\n",
        "    min_mse = float('inf')\n",
        "\n",
        "    # Iterate over parameter grid and calculate MSE\n",
        "    for b0, d1, d2, ei in param_grid:\n",
        "        mse_value = calculate_mse_vectorized(b0, d1, d2, ei, original_results)\n",
        "        if mse_value < min_mse:\n",
        "            min_mse = mse_value\n",
        "            best_b0, best_d1, best_d2, best_ei = b0, d1, d2, ei\n",
        "\n",
        "    print(\"Best Parameters:\")\n",
        "    print(\"B0:\", best_b0)\n",
        "    print(\"D1:\", best_d1)\n",
        "    print(\"D2:\", best_d2)\n",
        "    print(\"Ei:\", best_ei)\n",
        "\n",
        "    return best_b0, best_d1, best_d2, best_ei, min_mse\n"
      ]
    },
    {
      "cell_type": "markdown",
      "metadata": {
        "id": "Zi0MNiVLcF9n"
      },
      "source": [
        "- The above code defines a method that calculates the mean square error (euclidean distance) based on the formula given in the paper which contains the 5 parameters."
      ]
    },
    {
      "cell_type": "markdown",
      "metadata": {
        "id": "BLw9u-5DcWaC"
      },
      "source": [
        "- The above code runs loops to find the best parameter combination.\n",
        "- The original points (given in the excel sheet) are compared with the y values that are generated by the equations.\n",
        "- The combination which has least error is the best parameter combination.\n",
        "- We have narrowed the b0 and d1 values which makes the loop run quickly and efficiently."
      ]
    },
    {
      "cell_type": "markdown",
      "metadata": {
        "id": "bLnoLLiNPGH3"
      },
      "source": [
        "# Comparision graph in a method"
      ]
    },
    {
      "cell_type": "code",
      "execution_count": null,
      "metadata": {
        "id": "bcDfdZGePKYh"
      },
      "outputs": [],
      "source": [
        "import pandas as pd\n",
        "import numpy as np\n",
        "import matplotlib.pyplot as plt\n",
        "\n",
        "def plot_comparison(file_path, x_axis, y2_axis, best_b0, best_d1, best_d2, ee, best_ei):\n",
        "    # Read data from Excel file\n",
        "    data = pd.read_excel(file_path)\n",
        "    x_values = data[x_axis].values\n",
        "    original_x_values = data[x_axis].values\n",
        "    original_y_values = data[y2_axis].values\n",
        "\n",
        "    # Define function to calculate y values\n",
        "    def calculate(b0, d1, d2, ee, ei, ep):\n",
        "        result = np.zeros_like(ep)\n",
        "        for i in range(len(ep)):\n",
        "            # Ensure values are not None\n",
        "            if ep[i] is not None and ei is not None and ee is not None:\n",
        "                if abs((ep[i] - ei) / (ei + ee)) < 1:\n",
        "                    result[i] = b0 - d1 * (abs((ep[i] - ei) / (ei + ee)) * np.arctanh((ep[i] - ei) / (ei + ee)) - d2 * ((ep[i] - ei) / (ei + ee)))\n",
        "        return result\n",
        "\n",
        "    # Calculate y values using the provided function\n",
        "    y_values = calculate(best_b0, best_d1, best_d2, ee, best_ei, x_values)\n",
        "\n",
        "    # Plot x-y values\n",
        "    plt.figure(figsize=(10, 6))\n",
        "    plt.plot(x_values, y_values, label='Calculated', color='blue')\n",
        "    plt.plot(original_x_values, original_y_values, label='Original', color='red')\n",
        "    plt.xlabel('X-axis')\n",
        "    plt.ylabel('Y-axis')\n",
        "    plt.title('Comparison of Calculated and Original Data')\n",
        "    plt.legend()\n",
        "    plt.grid(True)\n",
        "    plt.show()\n"
      ]
    },
    {
      "cell_type": "code",
      "execution_count": null,
      "metadata": {
        "collapsed": true,
        "id": "2qHLczPjFQRl"
      },
      "outputs": [],
      "source": [
        "# print(\"Calculating B0 range...\")\n",
        "# # Calculate range for B0\n",
        "# from_b0, to_b0 = calculate_b0_range(file_path, x_axis, y2_axis, k_value)\n",
        "\n",
        "# print(\"Calculating min and max slope values for D1...\")\n",
        "# # Calculate min and max slope values for D1\n",
        "# min_d1, max_d1 = calculate_min_max_slope(file_path, x_axis, y2_axis)\n",
        "# print(\"Finding best parameters...\")\n",
        "# # Find best parameters\n",
        "# # max_d1 = 7000\n",
        "# # best_b0, best_d1, best_d2, best_ei, min_mse = find_best_parameters(from_b0, to_b0, min_d1, max_d1)\n",
        "# best_b0, best_d1, best_d2, best_ei, min_mse = find_best_parameters(file_path, x_axis, y2_axis, from_b0, to_b0, min_d1, max_d1, ee)\n",
        "\n",
        "# print(\"Plotting comparison...\")\n",
        "# # Plot comparison\n",
        "# plot_comparison(file_path, x_axis, y2_axis, best_b0, best_d1, best_d2, ee, best_ei)"
      ]
    },
    {
      "cell_type": "markdown",
      "metadata": {
        "id": "dn3OBRb-czOp"
      },
      "source": [
        "- In the above code we compare the original graph with the graph values generated by the equation from the parameters we found in the above step."
      ]
    },
    {
      "cell_type": "markdown",
      "metadata": {
        "id": "ZRlQtm_nQcZz"
      },
      "source": [
        "# Extract Keywords in a method"
      ]
    },
    {
      "cell_type": "code",
      "execution_count": null,
      "metadata": {
        "id": "KqClNLpyQo3L"
      },
      "outputs": [],
      "source": [
        "def extract_and_find_lemmas(pdf_file_path, keywords):\n",
        "    all_lemmas = []\n",
        "\n",
        "    # Parse the PDF and extract text\n",
        "    text = \"\"\n",
        "    try:\n",
        "        with open(pdf_file_path, \"rb\") as f:\n",
        "            pdf_reader = PyPDF2.PdfReader(f)\n",
        "            num_pages = len(pdf_reader.pages)\n",
        "            for page_number in range(num_pages):\n",
        "                text += pdf_reader.pages[page_number].extract_text()\n",
        "    except PyPDF2.utils.PdfReadError as e:\n",
        "        print(\"Error reading PDF file:\", e)\n",
        "        return None, None\n",
        "    except Exception as e:\n",
        "        print(\"An error occurred:\", e)\n",
        "        return None, None\n",
        "\n",
        "    # Tokenize the text\n",
        "    words = word_tokenize(text)\n",
        "\n",
        "    # Remove stop words and punctuation, and lemmatize\n",
        "    stop_words = set(stopwords.words('english'))\n",
        "    lemmatizer = WordNetLemmatizer()\n",
        "\n",
        "    for word in words:\n",
        "        if word.lower() not in stop_words and word not in string.punctuation:\n",
        "            lemma = lemmatizer.lemmatize(word, pos=get_wordnet_pos(word))\n",
        "            for keyword in keywords:\n",
        "                if keyword in lemma and lemma not in all_lemmas:\n",
        "                    all_lemmas.append(lemma)\n",
        "\n",
        "    return text, all_lemmas\n",
        "\n",
        "# Function to map POS tag to first character lemmatize() accepts\n",
        "def get_wordnet_pos(word):\n",
        "    tag = nltk.pos_tag([word])[0][1][0].upper()\n",
        "    tag_dict = {\"J\": wordnet.ADJ, \"N\": wordnet.NOUN, \"V\": wordnet.VERB, \"R\": wordnet.ADV}\n",
        "    return tag_dict.get(tag, wordnet.NOUN)\n",
        "\n",
        "\n",
        "\n"
      ]
    },
    {
      "cell_type": "code",
      "execution_count": null,
      "metadata": {
        "id": "20PtOyTEZcDj"
      },
      "outputs": [],
      "source": [
        "import PyPDF2\n",
        "import pytesseract\n",
        "from pdf2image import convert_from_path\n",
        "import nltk\n",
        "from nltk.tokenize import word_tokenize\n",
        "from nltk.corpus import stopwords, wordnet\n",
        "from nltk.stem import WordNetLemmatizer\n",
        "import string\n",
        "\n",
        "# Ensure that you have Tesseract installed and provide its path if needed\n",
        "# pytesseract.pytesseract.tesseract_cmd = r'path_to_tesseract_executable'\n",
        "\n",
        "def extract_and_find_lemmas(pdf_file_path, keywords):\n",
        "    all_lemmas = []\n",
        "    text = \"\"\n",
        "\n",
        "    try:\n",
        "        with open(pdf_file_path, \"rb\") as f:\n",
        "            pdf_reader = PyPDF2.PdfReader(f)\n",
        "            num_pages = len(pdf_reader.pages)\n",
        "\n",
        "            # Attempt to extract text from the PDF using PyPDF2\n",
        "            for page_number in range(num_pages):\n",
        "                page_text = pdf_reader.pages[page_number].extract_text()\n",
        "                if page_text:\n",
        "                    text += page_text\n",
        "\n",
        "            # If no text was extracted, try OCR\n",
        "            if not text.strip():\n",
        "                print(\"No text extracted from PDF. Attempting OCR...\")\n",
        "                text = extract_text_from_images(pdf_file_path)\n",
        "\n",
        "    except PyPDF2.utils.PdfReadError as e:\n",
        "        print(\"Error reading PDF file:\", e)\n",
        "        return None, None\n",
        "    except Exception as e:\n",
        "        print(\"An error occurred:\", e)\n",
        "        return None, None\n",
        "\n",
        "    # Tokenize the text\n",
        "    words = word_tokenize(text)\n",
        "\n",
        "    # Remove stop words and punctuation, and lemmatize\n",
        "    stop_words = set(stopwords.words('english'))\n",
        "    lemmatizer = WordNetLemmatizer()\n",
        "\n",
        "    for word in words:\n",
        "        if word.lower() not in stop_words and word not in string.punctuation:\n",
        "            lemma = lemmatizer.lemmatize(word, pos=get_wordnet_pos(word))\n",
        "            for keyword in keywords:\n",
        "                if keyword in lemma and lemma not in all_lemmas:\n",
        "                    all_lemmas.append(lemma)\n",
        "\n",
        "    return text, all_lemmas\n",
        "\n",
        "\n",
        "# Function to map POS tag to first character lemmatize() accepts\n",
        "def get_wordnet_pos(word):\n",
        "    tag = nltk.pos_tag([word])[0][1][0].upper()\n",
        "    tag_dict = {\"J\": wordnet.ADJ, \"N\": wordnet.NOUN, \"V\": wordnet.VERB, \"R\": wordnet.ADV}\n",
        "    return tag_dict.get(tag, wordnet.NOUN)\n",
        "\n",
        "# Function to handle image-based PDFs using OCR\n",
        "def extract_text_from_images(pdf_file_path):\n",
        "    # Convert PDF to a list of images, one image per page\n",
        "    images = convert_from_path(pdf_file_path)\n",
        "    text = \"\"\n",
        "\n",
        "    for image in images:\n",
        "        # Use pytesseract to do OCR on the image\n",
        "        text += pytesseract.image_to_string(image)\n",
        "\n",
        "    return text\n",
        "\n"
      ]
    },
    {
      "cell_type": "markdown",
      "metadata": {
        "id": "ZOD_bCCSdE9w"
      },
      "source": [
        "- The above code reads the pdf paper and extracts the keywords using natural language processing libraries."
      ]
    },
    {
      "cell_type": "markdown",
      "metadata": {
        "id": "dxg9919RRYFS"
      },
      "source": [
        "# Extract the chemical composition in a method"
      ]
    },
    {
      "cell_type": "code",
      "execution_count": null,
      "metadata": {
        "id": "AdYC-R94Ra0h"
      },
      "outputs": [],
      "source": [
        "def extract_chemical_compositions_from_pdf(pdf_file_path, min_length=8):\n",
        "    with open(pdf_file_path, 'rb') as file:\n",
        "        reader = PdfReader(file)\n",
        "        text = ''\n",
        "        for page in reader.pages:\n",
        "            text += page.extract_text()\n",
        "\n",
        "    return extract_chemical_compositions(text, min_length)\n",
        "\n",
        "def extract_chemical_compositions(text, min_length=8):\n",
        "    pattern = r'\\b(?:[A-Z][a-z]?\\d*(?:\\.\\d+)?)+\\b'\n",
        "    chemical_compositions = re.findall(pattern, text)\n",
        "    # Filter compositions based on minimum length\n",
        "    chemical_compositions = [comp for comp in chemical_compositions if len(comp) >= min_length]\n",
        "    return chemical_compositions\n",
        "\n",
        "def combine_words(text):\n",
        "    # Split the text into individual words\n",
        "    words = text.split()\n",
        "\n",
        "    # Iterate through the words\n",
        "    i = 0\n",
        "    while i < len(words) - 1:\n",
        "        # Check if the current word ends with a number and the next word starts with a character\n",
        "        if words[i][-1].isdigit() and words[i+1][0].isalpha():\n",
        "            # Combine the words\n",
        "            words[i] += words[i+1]\n",
        "            # Remove the next word\n",
        "            del words[i+1]\n",
        "        # Check if the current word ends with a character and the next word starts with a number\n",
        "        elif words[i][-1].isalpha() and words[i+1][0].isdigit():\n",
        "            # Combine the words\n",
        "            words[i] += words[i+1]\n",
        "            # Remove the next word\n",
        "            del words[i+1]\n",
        "        else:\n",
        "            # Move to the next pair of words\n",
        "            i += 1\n",
        "\n",
        "    # Join the words back into a single string\n",
        "    combined_text = ' '.join(words)\n",
        "    return combined_text\n",
        "\n",
        "import re\n",
        "\n",
        "def create_element_dictionary(chemical_composition):\n",
        "    # Initialize an empty dictionary to store key-value pairs\n",
        "    elements = {}\n",
        "\n",
        "    # Split the composition string into element symbol and numeric value pairs\n",
        "    # The regular expression (\\D+)(\\d*\\.?\\d*) matches non-digit characters (element symbols) followed by optional digits (numeric values)\n",
        "    matches = re.findall(r'([A-Z][a-z]?)(\\d*\\.?\\d*)', chemical_composition)\n",
        "\n",
        "    # Iterate through the matches\n",
        "    for match in matches:\n",
        "        # Extract the element symbol\n",
        "        element = match[0]\n",
        "\n",
        "        # Extract the numeric value, or 0 if not provided\n",
        "        value = float(match[1]) if match[1] else 1.0\n",
        "\n",
        "        # Add the element and its value to the dictionary\n",
        "        elements[element] = value\n",
        "\n",
        "    return elements\n",
        "\n",
        "\n",
        "\n",
        "\n",
        "def find_max_size_chemical(text ,pdf_file_path):\n",
        "    chemicals = extract_chemical_compositions_from_pdf(pdf_file_path)\n",
        "    combined_text = combine_words(text)\n",
        "    chemicals = extract_chemical_compositions(combined_text)\n",
        "    print()\n",
        "    print(chemicals)\n",
        "    if not chemicals:\n",
        "        print(\"No chemical compositions found in the text.\")\n",
        "        return None\n",
        "    max_size_chemical = max(chemicals, key=len)\n",
        "    print(\"\\nMaximum sized chemical composition:\", max_size_chemical)\n",
        "    element_dict = create_element_dictionary(max_size_chemical)\n",
        "    return element_dict\n",
        "\n",
        "\n"
      ]
    },
    {
      "cell_type": "markdown",
      "metadata": {
        "id": "FkWgcbmCdQs7"
      },
      "source": [
        "- The above code also uses a regular expression to extract the chemical composition from the paper.\n",
        "- The largest composition is considered (assumed) as the main checmical composition."
      ]
    },
    {
      "cell_type": "markdown",
      "metadata": {
        "id": "pogy8_tpHsVF"
      },
      "source": [
        "- Convert the chemical composition into a key-value pair of element and number."
      ]
    },
    {
      "cell_type": "markdown",
      "metadata": {
        "id": "QF5ubtF9alo2"
      },
      "source": [
        "# Create of Update JSON file"
      ]
    },
    {
      "cell_type": "code",
      "execution_count": null,
      "metadata": {
        "id": "xkVR6J4Zwznc"
      },
      "outputs": [],
      "source": [
        "import json\n",
        "import numpy as np # Import numpy if not already imported\n",
        "\n",
        "def update_json_data(json_file_path, new_details):\n",
        "    \"\"\"Updates the existing JSON data with new details.\n",
        "\n",
        "    Args:\n",
        "        json_file_path (str): Path to the JSON file.\n",
        "        new_details (dict): New details to be added to the JSON data.\n",
        "    \"\"\"\n",
        "\n",
        "    try:\n",
        "        with open(json_file_path, 'r') as json_file:\n",
        "            existing_data = json.load(json_file)\n",
        "    except FileNotFoundError:\n",
        "        existing_data = []\n",
        "\n",
        "    # Convert NumPy int64 to Python int before appending\n",
        "    for key, value in new_details.items():\n",
        "        if isinstance(value, np.int64):\n",
        "            new_details[key] = int(value)\n",
        "\n",
        "    existing_data.append(new_details)  # Ensure that you're appending the updated new_details\n",
        "\n",
        "    # Write the updated data back to the JSON file\n",
        "    with open(json_file_path, 'w') as json_file:\n",
        "        json.dump(existing_data, json_file, indent=4)\n",
        "\n",
        "    print(\"Data has been updated in\", json_file_path)"
      ]
    },
    {
      "cell_type": "markdown",
      "metadata": {
        "id": "UamT8DqYdjij"
      },
      "source": [
        "- The above code creates the JSON file if it does not exist and reads the data from it if it exists."
      ]
    },
    {
      "cell_type": "code",
      "execution_count": null,
      "metadata": {
        "id": "pJ653emmVRNH"
      },
      "outputs": [],
      "source": [
        "import pandas as pd\n",
        "import numpy as np\n",
        "import matplotlib.pyplot as plt\n",
        "from scipy.optimize import fsolve\n",
        "import statsmodels.api as sm\n",
        "\n",
        "def calculate_hollomon_constants(strain, stress):\n",
        "    # Filter out non-positive values\n",
        "    # Read Excel file\n",
        "    df = pd.read_excel(file_path)\n",
        "\n",
        "    # Remove the last row\n",
        "    df = df.drop(df.tail(2).index)\n",
        "\n",
        "    # Extract x and y columns\n",
        "    x = df[x_axis].values\n",
        "    y = df[y2_axis].values\n",
        "\n",
        "    # Check for and handle NaN or infinite values\n",
        "    mask = np.isfinite(x) & np.isfinite(y)\n",
        "    strain = x[mask]\n",
        "    stress = y[mask]\n",
        "    valid_indices = (strain > 0) & (stress > 0)\n",
        "    strain = strain[valid_indices]\n",
        "    stress = stress[valid_indices]\n",
        "\n",
        "    # Transforming the data to natural logarithms\n",
        "    log_strain = np.log(strain)\n",
        "    log_stress = np.log(stress)\n",
        "\n",
        "    # Performing linear regression\n",
        "    X = sm.add_constant(log_strain)  # Adds a constant term to the predictor\n",
        "    model = sm.OLS(log_stress, X).fit()\n",
        "    intercept, slope = model.params\n",
        "\n",
        "    # Calculating k\n",
        "    k = np.exp(intercept)\n",
        "\n",
        "    return slope, k"
      ]
    },
    {
      "cell_type": "markdown",
      "metadata": {
        "id": "-ddMRyg1ZKDP"
      },
      "source": [
        "# Call all the methods"
      ]
    },
    {
      "cell_type": "code",
      "execution_count": null,
      "metadata": {
        "id": "JyRvNeqxzT1K"
      },
      "outputs": [],
      "source": [
        "def analyze_pdf_data(file_path, pdf_file_path, keywords, x_axis, y2_axis, k_value):\n",
        "    print(\"Calculating B0 range...\")\n",
        "    # Calculate range for B0\n",
        "    from_b0, to_b0 = calculate_b0_range(file_path, x_axis, y2_axis, k_value)\n",
        "\n",
        "    print(\"Calculating min and max slope values for D1...\")\n",
        "    # Calculate min and max slope values for D1\n",
        "    min_d1, max_d1 = calculate_min_max_slope(file_path, x_axis, y2_axis)\n",
        "\n",
        "    print(\"Finding best parameters...\")\n",
        "    # Find best parameters\n",
        "    # best_b0, best_d1, best_d2, best_ei, min_mse = find_best_parameters(from_b0, to_b0, min_d1, max_d1)\n",
        "    best_b0, best_d1, best_d2, best_ei, min_mse = find_best_parameters(file_path, x_axis, y2_axis, from_b0, to_b0, min_d1, max_d1, ee)\n",
        "\n",
        "    print(\"Plotting comparison...\")\n",
        "    # Plot comparison\n",
        "    plot_comparison(file_path, x_axis, y2_axis, best_b0, best_d1, best_d2, ee, best_ei)\n",
        "\n",
        "    text = utils.extract_text_from_pdf(pdf_file_path)\n",
        "    print(\"Extracting text and finding lemmas...\")\n",
        "    # Extract text and find lemmas\n",
        "    text, all_lemmas = utils.extract_and_find_lemmas(text, keywords)\n",
        "    print(\"Finding max size chemical composition...\")\n",
        "    # Find max size chemical composition\n",
        "    element_dict = utils.find_max_size_chemical(text)\n",
        "    # print(\"Text:\", text)\n",
        "    # print(\"All lemmas:\", all_lemmas)\n",
        "    # print(\"Element dictionary:\", element_dict)\n",
        "\n",
        "    print(\"extracting the n and k values from the results..\")\n",
        "    n, k = calculate_hollomon_constants(x_axis, y2_axis)\n",
        "    print(f'n = {n}')\n",
        "    print(f'k = {k}')\n",
        "\n",
        "    return {\n",
        "        \"best_b0\": best_b0,\n",
        "        \"best_d1\": best_d1,\n",
        "        \"best_d2\": best_d2,\n",
        "        \"best_ei\": best_ei,\n",
        "        \"all_lemmas\": all_lemmas,\n",
        "        \"element_dict\": element_dict,\n",
        "        \"n\" : n,\n",
        "        \"k\" : k\n",
        "    }\n"
      ]
    },
    {
      "cell_type": "markdown",
      "metadata": {
        "id": "3gW7ICOyduVl"
      },
      "source": [
        "- The above code stores the above data in the json file.\n",
        "- The above data can be modified as required."
      ]
    },
    {
      "cell_type": "markdown",
      "metadata": {
        "id": "E0U4nViweCgd"
      },
      "source": [
        "# Read multiple files\n"
      ]
    },
    {
      "cell_type": "code",
      "source": [
        "!pip install nltk\n",
        "import nltk\n",
        "\n",
        "# Download the required NLTK data\n",
        "nltk.download('averaged_perceptron_tagger_eng')\n",
        "nltk.download('punkt') # This is required for word tokenization\n",
        "nltk.download('wordnet') # This is needed for lemmatization\n",
        "nltk.download('omw-1.4')\n",
        "nltk.download('punkt_tab')"
      ],
      "metadata": {
        "id": "pRTyzh-LxawB",
        "colab": {
          "base_uri": "https://localhost:8080/"
        },
        "outputId": "622ffd0c-f83f-467c-a5cc-af6340bbaf9e"
      },
      "execution_count": null,
      "outputs": [
        {
          "output_type": "stream",
          "name": "stdout",
          "text": [
            "Requirement already satisfied: nltk in /usr/local/lib/python3.11/dist-packages (3.9.1)\n",
            "Requirement already satisfied: click in /usr/local/lib/python3.11/dist-packages (from nltk) (8.1.8)\n",
            "Requirement already satisfied: joblib in /usr/local/lib/python3.11/dist-packages (from nltk) (1.4.2)\n",
            "Requirement already satisfied: regex>=2021.8.3 in /usr/local/lib/python3.11/dist-packages (from nltk) (2024.11.6)\n",
            "Requirement already satisfied: tqdm in /usr/local/lib/python3.11/dist-packages (from nltk) (4.67.1)\n"
          ]
        },
        {
          "output_type": "stream",
          "name": "stderr",
          "text": [
            "[nltk_data] Downloading package averaged_perceptron_tagger_eng to\n",
            "[nltk_data]     /root/nltk_data...\n",
            "[nltk_data]   Unzipping taggers/averaged_perceptron_tagger_eng.zip.\n",
            "[nltk_data] Downloading package punkt to /root/nltk_data...\n",
            "[nltk_data]   Package punkt is already up-to-date!\n",
            "[nltk_data] Downloading package wordnet to /root/nltk_data...\n",
            "[nltk_data]   Package wordnet is already up-to-date!\n",
            "[nltk_data] Downloading package omw-1.4 to /root/nltk_data...\n",
            "[nltk_data] Downloading package punkt_tab to /root/nltk_data...\n",
            "[nltk_data]   Unzipping tokenizers/punkt_tab.zip.\n"
          ]
        },
        {
          "output_type": "execute_result",
          "data": {
            "text/plain": [
              "True"
            ]
          },
          "metadata": {},
          "execution_count": 20
        }
      ]
    },
    {
      "cell_type": "code",
      "execution_count": null,
      "metadata": {
        "collapsed": true,
        "id": "ekU9GM6G5OMA",
        "colab": {
          "base_uri": "https://localhost:8080/",
          "height": 1000
        },
        "outputId": "c7ba3a9a-5a67-43fc-e176-9a183381fc88"
      },
      "outputs": [
        {
          "output_type": "stream",
          "name": "stdout",
          "text": [
            "\n",
            "PROCESSING FOLDER: paper-137\n",
            "Found Excel file: /content/drive/MyDrive/Colab Notebooks/Material_Science/0318/paper-137/fitted_hard_rate_cal.xlsx\n",
            "Found PDF file: /content/drive/MyDrive/Colab Notebooks/Material_Science/0318/paper-137/Li_2021_Mater._Res._Express_8_105403.pdf\n",
            "No text file found. Ignoring link.\n",
            "Calculating B0 range...\n",
            "Cubic Polynomial Coefficients: [ 1.39922301e-06 -7.35894621e+07  4.60877634e+07 -9.57070348e+06\n",
            "  6.65983238e+05  2.53018440e+01]\n",
            "\n",
            "Polynomial Equation: 0.000001 x^5 + -73589462.091954 x^4 + 46087763.366607 x^3 + -9570703.475691 x^2 + 665983.238346 x^1 + 25.301844\n",
            "\n",
            "Derivative Equation: 0.000007 x^4 + -294357848.367817 x^3 + 138263290.099822 x^2 + -19141406.951383 x^1 + 665983.238346\n",
            "\n",
            "Roots (Zeros) of the Derivative Equation: [4.20744723e+13 2.28193144e-01 1.89081714e-01 5.24367219e-02]\n",
            "\n",
            "For x = 42074472262527.320312, y = -46123295874111208711652919826773012793628791415091502981840896.000000\n",
            "For x = 0.228193, y = 1730.991147\n",
            "For x = 0.189082, y = 1272.511844\n",
            "For x = 0.052437, y = 14720.175110\n",
            "\n"
          ]
        },
        {
          "output_type": "display_data",
          "data": {
            "text/plain": [
              "<Figure size 640x480 with 1 Axes>"
            ],
            "image/png": "[encoded data removed]"
          },
          "metadata": {}
        },
        {
          "output_type": "stream",
          "name": "stdout",
          "text": [
            "Original Y Values for the Roots:\n",
            "For x = 42074472262527.320312, y = -46123295874111208711652919826773012793628791415091502981840896.000000\n",
            "For x = 0.228193, y = 1730.991147\n",
            "For x = 0.189082, y = 1272.511844\n",
            "For x = 0.052437, y = 14720.175110\n",
            "\n",
            "Minimum b0: 1272.5118441113004\n",
            "Maximum b0: 1730.9911465752416\n",
            "From_b0: 1100\n",
            "To_b0: 1400\n",
            "Calculating min and max slope values for D1...\n",
            "Point   |   x       |   y       |   Slope\n",
            "---------------------------------------------\n",
            "1       |   0.004   |   2539.034   |   591610.482\n",
            "2       |   0.005   |   3216.557   |   570751.222\n",
            "3       |   0.006   |   3869.972   |   550254.597\n",
            "4       |   0.007   |   4499.703   |   530118.832\n",
            "5       |   0.009   |   5106.167   |   510340.856\n",
            "6       |   0.010   |   5689.781   |   490917.942\n",
            "7       |   0.011   |   6250.957   |   471847.272\n",
            "8       |   0.012   |   6790.103   |   453126.054\n",
            "9       |   0.013   |   7307.627   |   434751.487\n",
            "10       |   0.014   |   7803.929   |   416720.773\n",
            "11       |   0.016   |   8279.410   |   399031.113\n",
            "12       |   0.017   |   8734.465   |   381679.710\n",
            "13       |   0.018   |   9169.487   |   364663.763\n",
            "14       |   0.019   |   9584.865   |   347980.476\n",
            "15       |   0.020   |   9980.986   |   331627.048\n",
            "16       |   0.021   |   10358.233   |   315600.683\n",
            "17       |   0.023   |   10716.985   |   299898.581\n",
            "18       |   0.024   |   11057.619   |   284517.943\n",
            "19       |   0.025   |   11380.508   |   269455.972\n",
            "20       |   0.026   |   11686.021   |   254709.868\n",
            "21       |   0.027   |   11974.526   |   240276.833\n",
            "22       |   0.028   |   12246.385   |   226154.069\n",
            "23       |   0.030   |   12501.959   |   212338.776\n",
            "24       |   0.031   |   12741.605   |   198828.157\n",
            "25       |   0.032   |   12965.676   |   185619.413\n",
            "26       |   0.033   |   13174.522   |   172709.745\n",
            "27       |   0.034   |   13368.491   |   160096.356\n",
            "28       |   0.035   |   13547.926   |   147776.445\n",
            "29       |   0.037   |   13713.168   |   135747.215\n",
            "30       |   0.038   |   13864.554   |   124005.867\n",
            "31       |   0.039   |   14002.418   |   112549.603\n",
            "32       |   0.040   |   14127.091   |   101375.624\n",
            "33       |   0.041   |   14238.900   |   90481.132\n",
            "34       |   0.042   |   14338.170   |   79863.327\n",
            "35       |   0.044   |   14425.221   |   69519.412\n",
            "36       |   0.045   |   14500.371   |   59446.588\n",
            "37       |   0.046   |   14563.934   |   49642.056\n",
            "38       |   0.047   |   14616.222   |   40103.019\n",
            "39       |   0.048   |   14657.543   |   30826.676\n",
            "40       |   0.049   |   14688.201   |   21810.230\n",
            "41       |   0.051   |   14708.497   |   13050.883\n",
            "42       |   0.052   |   14718.730   |   4545.835\n",
            "43       |   0.053   |   14719.194   |   -3707.711\n",
            "44       |   0.054   |   14710.181   |   -11712.555\n",
            "45       |   0.055   |   14691.980   |   -19471.495\n",
            "46       |   0.056   |   14664.875   |   -26987.330\n",
            "47       |   0.058   |   14629.148   |   -34262.857\n",
            "48       |   0.059   |   14585.078   |   -41300.876\n",
            "49       |   0.060   |   14532.940   |   -48104.185\n",
            "50       |   0.061   |   14473.005   |   -54675.583\n",
            "51       |   0.062   |   14405.544   |   -61017.868\n",
            "52       |   0.063   |   14330.820   |   -67133.838\n",
            "53       |   0.065   |   14249.098   |   -73026.293\n",
            "54       |   0.066   |   14160.634   |   -78698.031\n",
            "55       |   0.067   |   14065.685   |   -84151.850\n",
            "56       |   0.068   |   13964.504   |   -89390.548\n",
            "57       |   0.069   |   13857.340   |   -94416.926\n",
            "58       |   0.070   |   13744.438   |   -99233.780\n",
            "59       |   0.072   |   13626.041   |   -103843.910\n",
            "60       |   0.073   |   13502.388   |   -108250.113\n",
            "61       |   0.074   |   13373.717   |   -112455.190\n",
            "62       |   0.075   |   13240.258   |   -116461.937\n",
            "63       |   0.076   |   13102.243   |   -120273.154\n",
            "64       |   0.077   |   12959.897   |   -123891.639\n",
            "65       |   0.079   |   12813.444   |   -127320.191\n",
            "66       |   0.080   |   12663.103   |   -130561.609\n",
            "67       |   0.081   |   12509.090   |   -133618.690\n",
            "68       |   0.082   |   12351.620   |   -136494.233\n",
            "69       |   0.083   |   12190.902   |   -139191.037\n",
            "70       |   0.084   |   12027.143   |   -141711.901\n",
            "71       |   0.086   |   11860.546   |   -144059.623\n",
            "72       |   0.087   |   11691.311   |   -146237.001\n",
            "73       |   0.088   |   11519.636   |   -148246.835\n",
            "74       |   0.089   |   11345.714   |   -150091.922\n",
            "75       |   0.090   |   11169.736   |   -151775.061\n",
            "76       |   0.091   |   10991.888   |   -153299.051\n",
            "77       |   0.093   |   10812.356   |   -154666.690\n",
            "78       |   0.094   |   10631.318   |   -155880.776\n",
            "79       |   0.095   |   10448.953   |   -156944.109\n",
            "80       |   0.096   |   10265.436   |   -157859.487\n",
            "81       |   0.097   |   10080.936   |   -158629.709\n",
            "82       |   0.098   |   9895.621   |   -159257.572\n",
            "83       |   0.100   |   9709.656   |   -159745.876\n",
            "84       |   0.101   |   9523.201   |   -160097.418\n",
            "85       |   0.102   |   9336.415   |   -160314.999\n",
            "86       |   0.103   |   9149.452   |   -160401.415\n",
            "87       |   0.104   |   8962.464   |   -160359.466\n",
            "88       |   0.105   |   8775.598   |   -160191.950\n",
            "89       |   0.107   |   8588.999   |   -159901.666\n",
            "90       |   0.108   |   8402.808   |   -159491.412\n",
            "91       |   0.109   |   8217.165   |   -158963.987\n",
            "92       |   0.110   |   8032.203   |   -158322.189\n",
            "93       |   0.111   |   7848.055   |   -157568.817\n",
            "94       |   0.112   |   7664.848   |   -156706.670\n",
            "95       |   0.114   |   7482.709   |   -155738.545\n",
            "96       |   0.115   |   7301.760   |   -154667.242\n",
            "97       |   0.116   |   7122.117   |   -153495.559\n",
            "98       |   0.117   |   6943.898   |   -152226.295\n",
            "99       |   0.118   |   6767.214   |   -150862.247\n",
            "100       |   0.119   |   6592.175   |   -149406.216\n",
            "101       |   0.121   |   6418.885   |   -147860.998\n",
            "102       |   0.122   |   6247.447   |   -146229.394\n",
            "103       |   0.123   |   6077.960   |   -144514.200\n",
            "104       |   0.124   |   5910.521   |   -142718.216\n",
            "105       |   0.125   |   5745.221   |   -140844.241\n",
            "106       |   0.126   |   5582.149   |   -138895.073\n",
            "107       |   0.128   |   5421.393   |   -136873.510\n",
            "108       |   0.129   |   5263.034   |   -134782.351\n",
            "109       |   0.130   |   5107.152   |   -132624.394\n",
            "110       |   0.131   |   4953.824   |   -130402.439\n",
            "111       |   0.132   |   4803.122   |   -128119.283\n",
            "112       |   0.133   |   4655.116   |   -125777.726\n",
            "113       |   0.135   |   4509.873   |   -123380.565\n",
            "114       |   0.136   |   4367.456   |   -120930.599\n",
            "115       |   0.137   |   4227.924   |   -118430.627\n",
            "116       |   0.138   |   4091.334   |   -115883.447\n",
            "117       |   0.139   |   3957.740   |   -113291.858\n",
            "118       |   0.140   |   3827.193   |   -110658.659\n",
            "119       |   0.142   |   3699.737   |   -107986.648\n",
            "120       |   0.143   |   3575.419   |   -105278.622\n",
            "121       |   0.144   |   3454.277   |   -102537.382\n",
            "122       |   0.145   |   3336.348   |   -99765.726\n",
            "123       |   0.146   |   3221.668   |   -96966.452\n",
            "124       |   0.147   |   3110.265   |   -94142.358\n",
            "125       |   0.149   |   3002.168   |   -91296.243\n",
            "126       |   0.150   |   2897.401   |   -88430.906\n",
            "127       |   0.151   |   2795.984   |   -85549.146\n",
            "128       |   0.152   |   2697.935   |   -82653.760\n",
            "129       |   0.153   |   2603.268   |   -79747.547\n",
            "130       |   0.154   |   2511.994   |   -76833.306\n",
            "131       |   0.156   |   2424.121   |   -73913.836\n",
            "132       |   0.157   |   2339.653   |   -70991.935\n",
            "133       |   0.158   |   2258.592   |   -68070.401\n",
            "134       |   0.159   |   2180.935   |   -65152.033\n",
            "135       |   0.160   |   2106.677   |   -62239.630\n",
            "136       |   0.161   |   2035.810   |   -59335.990\n",
            "137       |   0.163   |   1968.322   |   -56443.911\n",
            "138       |   0.164   |   1904.197   |   -53566.193\n",
            "139       |   0.165   |   1843.417   |   -50705.634\n",
            "140       |   0.166   |   1785.961   |   -47865.031\n",
            "141       |   0.167   |   1731.803   |   -45047.185\n",
            "142       |   0.168   |   1680.916   |   -42254.893\n",
            "143       |   0.170   |   1633.268   |   -39490.954\n",
            "144       |   0.171   |   1588.825   |   -36758.166\n",
            "145       |   0.172   |   1547.547   |   -34059.328\n",
            "146       |   0.173   |   1509.396   |   -31397.239\n",
            "147       |   0.174   |   1474.324   |   -28774.697\n",
            "148       |   0.175   |   1442.286   |   -26194.500\n",
            "149       |   0.177   |   1413.230   |   -23659.448\n",
            "150       |   0.178   |   1387.102   |   -21172.338\n",
            "151       |   0.179   |   1363.844   |   -18735.969\n",
            "152       |   0.180   |   1343.395   |   -16353.141\n",
            "153       |   0.181   |   1325.692   |   -14026.650\n",
            "154       |   0.182   |   1310.667   |   -11759.296\n",
            "155       |   0.184   |   1298.249   |   -9553.878\n",
            "156       |   0.185   |   1288.365   |   -7413.194\n",
            "157       |   0.186   |   1280.938   |   -5340.042\n",
            "158       |   0.187   |   1275.887   |   -3337.221\n",
            "159       |   0.188   |   1273.128   |   -1407.530\n",
            "160       |   0.189   |   1272.576   |   446.233\n",
            "161       |   0.191   |   1274.138   |   2221.270\n",
            "162       |   0.192   |   1277.723   |   3914.782\n",
            "163       |   0.193   |   1283.233   |   5523.969\n",
            "164       |   0.194   |   1290.569   |   7046.035\n",
            "165       |   0.195   |   1299.627   |   8478.179\n",
            "166       |   0.196   |   1310.301   |   9817.605\n",
            "167       |   0.198   |   1322.482   |   11061.512\n",
            "168       |   0.199   |   1336.055   |   12207.103\n",
            "169       |   0.200   |   1350.905   |   13251.580\n",
            "170       |   0.201   |   1366.913   |   14192.142\n",
            "171       |   0.202   |   1383.955   |   15025.993\n",
            "172       |   0.203   |   1401.906   |   15750.333\n",
            "173       |   0.205   |   1420.636   |   16362.364\n",
            "174       |   0.206   |   1440.012   |   16859.287\n",
            "175       |   0.207   |   1459.900   |   17238.304\n",
            "176       |   0.208   |   1480.159   |   17496.617\n",
            "177       |   0.209   |   1500.648   |   17631.426\n",
            "178       |   0.210   |   1521.221   |   17639.933\n",
            "179       |   0.212   |   1541.728   |   17519.340\n",
            "180       |   0.213   |   1562.019   |   17266.848\n",
            "181       |   0.214   |   1581.936   |   16879.659\n",
            "182       |   0.215   |   1601.323   |   16354.973\n",
            "183       |   0.216   |   1620.016   |   15689.993\n",
            "184       |   0.217   |   1637.851   |   14881.921\n",
            "185       |   0.219   |   1654.659   |   13927.956\n",
            "186       |   0.220   |   1670.268   |   12825.301\n",
            "187       |   0.221   |   1684.504   |   11571.158\n",
            "188       |   0.222   |   1697.188   |   10162.727\n",
            "189       |   0.223   |   1708.139   |   8597.211\n",
            "190       |   0.224   |   1717.172   |   6871.810\n",
            "191       |   0.226   |   1724.099   |   4983.727\n",
            "192       |   0.227   |   1728.728   |   2930.162\n",
            "193       |   0.228   |   1730.865   |   708.317\n",
            "194       |   0.229   |   1730.313   |   -1684.607\n",
            "195       |   0.230   |   1726.870   |   -4251.404\n",
            "196       |   0.231   |   1720.331   |   -6994.892\n",
            "197       |   0.233   |   1710.490   |   -9917.796\n",
            "198       |   0.234   |   1697.136   |   -13023.189\n",
            "199       |   0.235   |   1680.053   |   -16312.845\n"
          ]
        },
        {
          "output_type": "display_data",
          "data": {
            "text/plain": [
              "<Figure size 1200x800 with 1 Axes>"
            ],
            "image/png": "[encoded data removed]"
          },
          "metadata": {}
        },
        {
          "output_type": "stream",
          "name": "stdout",
          "text": [
            "Data Point | x Value | y Value | Difference | Slope:\n",
            "----------------------------------------------------\n",
            "1       |   0.004   |   2539.034   |   -20859.260   |   591610.482\n",
            "2       |   0.005   |   3216.557   |   -20496.625   |   570751.222\n",
            "3       |   0.006   |   3869.972   |   -20135.764   |   550254.597\n",
            "4       |   0.007   |   4499.703   |   -19777.977   |   530118.832\n",
            "\n",
            "Average Slope of Printed Slopes: 560683.7832011186\n"
          ]
        },
        {
          "output_type": "display_data",
          "data": {
            "text/plain": [
              "<Figure size 1200x800 with 1 Axes>"
            ],
            "image/png": "[encoded data removed]"
          },
          "metadata": {}
        },
        {
          "output_type": "stream",
          "name": "stdout",
          "text": [
            "\n",
            "Minimum Slope: 510340.8557652072\n",
            "Maximum Slope: 591610.4817787635\n",
            "Finding best parameters...\n",
            "Best Parameters:\n",
            "B0: 1390\n",
            "D1: 510340\n",
            "D2: 0.44999999999999996\n",
            "Ei: 0.1\n",
            "Plotting comparison...\n"
          ]
        },
        {
          "output_type": "display_data",
          "data": {
            "text/plain": [
              "<Figure size 1000x600 with 1 Axes>"
            ],
            "image/png": "[encoded data removed]"
          },
          "metadata": {}
        },
        {
          "output_type": "stream",
          "name": "stdout",
          "text": [
            "Extracting text and finding lemmas...\n",
            "Finding max size chemical composition...\n",
            "Extracted chemical compositions:\n",
            "['TiTaNbZrMo', 'Nb3TaTi3Zr', 'TiTaNbZrMo', 'TiTaNbZrMo', 'TiNbTaZrMo', 'TiZrNbTaMo', 'TiZrNbTaMo', 'TiZrNbTaMo', 'TiNbTaZrMo', 'TiNbTaZrMo', 'TiNbTaZrMo', 'TiNbTaZrMo', 'TiNbTaZrMo', 'TiNbTaZrMo', 'TiNbTaZrMo', 'TiNbTaZrMo', 'C11C12C44C12', 'C44Ti20Nb20Ta20Zr20Mo20', 'TiNbTaZrMo', 'TiNbTaZrMo', 'TiNbTaZrMo', 'TiNbTaZrMo', 'TiNbTaZrMo', 'TiNbTaZrMo', 'TiNbTaZrMo', 'TiNbTaZrMo', 'Ti20Nb20Ta20Zr20Mo20', 'TiZrNbTaMo', 'TiZrNbTaMo', 'Ti20Zr20Nb20Ta20Mo20', 'Ti20Zr20Nb20Ta20Mo20', 'Ti26Zr8Nb21Ta35Mo10', 'Ti43Zr26Nb14Ta9Mo8', 'Ti14Zr4Nb22Ta27Mo33', 'Ti26Zr46Nb12Ta7Mo9', 'Ti20Zr20Nb20Ta20Mo20', 'TiZrNbTaMo', 'TiNbZrTa', 'TiZrNbTaMo', 'TiZrNbTaMo', 'TiZrNbTaMo', 'TiZrNbTaMo', 'TiZrNbTaMo', 'TiZrNbHfTa', 'TiZrNbHfTa', 'TiZrNbFe', 'TiTaHfNbZr', 'Al0.1CoCrFeNi', 'TiZrHfNbTa', 'TiZrNbTaFe', 'TiZrNbTa', 'NiCoFeCrAl', 'CoCrFeMnNi']\n",
            "\n",
            "Maximum sized chemical composition: C44Ti20Nb20Ta20Zr20Mo20\n",
            "extracting the n and k values from the results..\n",
            "n = -0.6726884361497125\n",
            "k = 954.6419787631158\n",
            "Data has been updated in data.json\n",
            "JSON DATA SAVED.\n",
            "\n"
          ]
        }
      ],
      "source": [
        "# Loop through each folder in the data directory\n",
        "for folder_name in os.listdir(data_directory):\n",
        "    folder_path = os.path.join(data_directory, folder_name)\n",
        "\n",
        "    # Check if the item in the directory is a folder\n",
        "    if os.path.isdir(folder_path):\n",
        "        print(f\"\\nPROCESSING FOLDER: {folder_name}\")\n",
        "\n",
        "        # Extract the file paths for the Excel and PDF files\n",
        "        excel_file = None\n",
        "        pdf_file = None\n",
        "        text_file = None  # Variable to store the path of the text file\n",
        "\n",
        "        # Loop through the files in the folder\n",
        "        for file_name in os.listdir(folder_path):\n",
        "            file_path = os.path.join(folder_path, file_name)\n",
        "\n",
        "            # Check if the file is an Excel file\n",
        "            if file_name.endswith(\"_cal.xlsx\"):\n",
        "                excel_file = file_path\n",
        "\n",
        "            # Check if the file is a PDF file\n",
        "            elif file_name.endswith(\".pdf\"):\n",
        "                pdf_file = file_path\n",
        "\n",
        "            # Check if the file is a text file\n",
        "            elif file_name.endswith(\".txt\"):\n",
        "                text_file = file_path\n",
        "\n",
        "        # Ensure both Excel and PDF files are found and handle the case if text_file is None\n",
        "        if excel_file and pdf_file:\n",
        "            print(f\"Found Excel file: {excel_file}\")\n",
        "            print(f\"Found PDF file: {pdf_file}\")\n",
        "            if text_file:\n",
        "                print(f\"Found text file: {text_file}\")\n",
        "\n",
        "                # Read the link from the text file\n",
        "                with open(text_file, 'r') as txt_file:\n",
        "                    link = txt_file.read().strip()  # Assuming the link is on the first line and there's no leading/trailing whitespace\n",
        "            else:\n",
        "                print(\"No text file found. Ignoring link.\")\n",
        "                link = None  # Set link to None if no text file is found\n",
        "\n",
        "            # Read Excel data\n",
        "            data = pd.read_excel(excel_file, usecols=[0, 1, 2])\n",
        "            x_axis = data.columns[0]  # First column as x_axis - strain\n",
        "            y1_axis = data.columns[1]  # Second column as y1_axis - stress\n",
        "            y2_axis = data.columns[2]  # Third column as y2_axis - harding rate\n",
        "\n",
        "            # Update global variables with file paths and column names\n",
        "            file_path = excel_file\n",
        "            pdf_file_path = pdf_file\n",
        "\n",
        "            # Call the method and store the returned values\n",
        "            analysis_results = analyze_pdf_data(file_path, pdf_file_path, keywords, x_axis, y2_axis, k_value)\n",
        "\n",
        "            # Prepare the new details dictionary with the returned values\n",
        "            new_details = {\n",
        "                \"title\": folder_name,\n",
        "                \"b0\": analysis_results[\"best_b0\"],\n",
        "                \"d1\": analysis_results[\"best_d1\"],\n",
        "                \"d2\": analysis_results[\"best_d2\"],\n",
        "                \"ei\": analysis_results[\"best_ei\"],\n",
        "                \"ee\": ee,\n",
        "                \"lemma\": analysis_results[\"all_lemmas\"],\n",
        "                \"composition\": analysis_results[\"element_dict\"],\n",
        "                \"link\": link,\n",
        "                \"n\": analysis_results[\"n\"],\n",
        "                \"k\": analysis_results[\"k\"]\n",
        "            }\n",
        "\n",
        "            json_file_path = \"data.json\"\n",
        "            update_json_data(json_file_path, new_details)\n",
        "\n",
        "            print(\"JSON DATA SAVED.\\n\")\n",
        "        else:\n",
        "            print(\"Error: Both Excel and PDF files are required in each folder.\")\n",
        "    else:\n",
        "        print(f\"Skipping file: {folder_name}, it is not a folder.\")\n"
      ]
    }
  ],
  "metadata": {
    "colab": {
      "provenance": []
    },
    "kernelspec": {
      "display_name": "Python 3",
      "name": "python3"
    },
    "language_info": {
      "name": "python"
    }
  },
  "nbformat": 4,
  "nbformat_minor": 0
}