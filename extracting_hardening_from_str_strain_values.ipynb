{
  "nbformat": 4,
  "nbformat_minor": 0,
  "metadata": {
    "colab": {
      "provenance": []
    },
    "kernelspec": {
      "name": "python3",
      "display_name": "Python 3"
    },
    "language_info": {
      "name": "python"
    }
  },
  "cells": [
    {
      "cell_type": "code",
      "execution_count": null,
      "metadata": {
        "colab": {
          "base_uri": "https://localhost:8080/"
        },
        "id": "9W9gTBBe2-A-",
        "outputId": "b2ee8db3-d51d-458d-83be-bc3123b05882"
      },
      "outputs": [
        {
          "output_type": "stream",
          "name": "stdout",
          "text": [
            "coming inside\n",
            "/content/drive/My Drive/Colab Notebooks/Material_Science/March_papers/paper-280/Eng Values.xlsx\n",
            "coming to data\n",
            "Processed: paper-280\n",
            "coming inside\n",
            "/content/drive/My Drive/Colab Notebooks/Material_Science/March_papers/paper-278/Eng Values.xlsx\n",
            "coming to data\n",
            "Processed: paper-278\n",
            "coming inside\n",
            "/content/drive/My Drive/Colab Notebooks/Material_Science/March_papers/paper-277/Eng Values.xlsx\n",
            "coming to data\n",
            "Processed: paper-277\n",
            "coming inside\n",
            "/content/drive/My Drive/Colab Notebooks/Material_Science/March_papers/paper-281/Eng Values.xlsx\n",
            "coming to data\n",
            "Processed: paper-281\n",
            "coming inside\n",
            "/content/drive/My Drive/Colab Notebooks/Material_Science/March_papers/paper-274/Eng Values.xlsx\n",
            "coming to data\n",
            "Error processing paper-274: 'eng.stress'\n",
            "coming inside\n",
            "/content/drive/My Drive/Colab Notebooks/Material_Science/March_papers/paper-276/Eng Values.xlsx\n",
            "coming to data\n",
            "Processed: paper-276\n",
            "coming inside\n",
            "/content/drive/My Drive/Colab Notebooks/Material_Science/March_papers/paper-275/Eng Values.xlsx\n",
            "coming to data\n",
            "Processed: paper-275\n",
            "coming inside\n",
            "/content/drive/My Drive/Colab Notebooks/Material_Science/March_papers/paper-279/Eng Values.xlsx\n",
            "coming to data\n",
            "Processed: paper-279\n",
            "coming inside\n",
            "/content/drive/My Drive/Colab Notebooks/Material_Science/March_papers/paper-282/Eng Values.xlsx\n",
            "coming to data\n",
            "Processed: paper-282\n",
            "coming inside\n",
            "/content/drive/My Drive/Colab Notebooks/Material_Science/March_papers/paper-283/Eng Values.xlsx\n",
            "coming to data\n",
            "Processed: paper-283\n",
            "coming inside\n",
            "/content/drive/My Drive/Colab Notebooks/Material_Science/March_papers/paper-271/Eng Values.xlsx\n",
            "coming to data\n",
            "Processed: paper-271\n",
            "coming inside\n",
            "/content/drive/My Drive/Colab Notebooks/Material_Science/March_papers/paper-272/Eng Values.xlsx\n",
            "coming to data\n",
            "Processed: paper-272\n",
            "coming inside\n",
            "/content/drive/My Drive/Colab Notebooks/Material_Science/March_papers/paper-268/Eng Values.xlsx\n",
            "coming to data\n",
            "Processed: paper-268\n",
            "coming inside\n",
            "/content/drive/My Drive/Colab Notebooks/Material_Science/March_papers/paper-273/Eng Values.xlsx\n",
            "coming to data\n",
            "Processed: paper-273\n",
            "coming inside\n",
            "/content/drive/My Drive/Colab Notebooks/Material_Science/March_papers/paper-269/Eng Values.xlsx\n",
            "coming to data\n",
            "Processed: paper-269\n",
            "coming inside\n",
            "/content/drive/My Drive/Colab Notebooks/Material_Science/March_papers/paper-266/Eng Values.xlsx\n",
            "coming to data\n",
            "Error processing paper-266: 'eng.stress'\n",
            "coming inside\n",
            "/content/drive/My Drive/Colab Notebooks/Material_Science/March_papers/paper-267/Eng Values.xlsx\n",
            "coming to data\n",
            "Processed: paper-267\n",
            "coming inside\n",
            "/content/drive/My Drive/Colab Notebooks/Material_Science/March_papers/paper-270/Eng Values.xlsx\n",
            "coming to data\n",
            "Processed: paper-270\n",
            "All folders processed successfully!\n"
          ]
        }
      ],
      "source": [
        "import os\n",
        "import pandas as pd\n",
        "import numpy as np\n",
        "\n",
        "# Define the work hardening function\n",
        "def work_hardening(true_stress, true_strain):\n",
        "    if len(true_stress) != len(true_strain):\n",
        "        raise ValueError(\"true_stress and true_strain must have the same length\")\n",
        "    if len(true_stress) < 2:\n",
        "        return np.array([])\n",
        "    return np.diff(true_stress) / np.diff(true_strain)\n",
        "\n",
        "# Set the path to your main directory in Google Drive\n",
        "main_directory = \"/content/drive/My Drive/Colab Notebooks/Material_Science/March_papers\"\n",
        "\n",
        "# Loop through each folder inside the main directory\n",
        "for folder_name in os.listdir(main_directory):\n",
        "    folder_path = os.path.join(main_directory, folder_name)\n",
        "\n",
        "    # Check if it is a folder\n",
        "    if os.path.isdir(folder_path):\n",
        "        print(\"coming inside\")\n",
        "        excel_file_path = os.path.join(folder_path, \"Eng Values.xlsx\")\n",
        "        excel_file_path_2 = os.path.join(folder_path,\"fitted_hard_rate_cal.xlsx\")\n",
        "        # Check if the Eng Values.xlsx file exists\n",
        "        print(excel_file_path)\n",
        "        if os.path.exists(excel_file_path) and not os.path.exists(excel_file_path_2):\n",
        "            try:\n",
        "                # Read the Excel file\n",
        "                data = pd.read_excel(excel_file_path)\n",
        "                print(\"coming to data\")\n",
        "                # Ensure required columns exist\n",
        "                if 't.stress' not in data.columns and 't.strain' not in data.columns:\n",
        "                    data['t.stress'] = data['eng.stress'] * (1 + data['eng.strain'])\n",
        "                    data['t.strain'] = np.log(1 + data['eng.strain'])\n",
        "\n",
        "                # Filter valid values\n",
        "                data = data[(data['t.stress'] > 0) & (data['t.strain'] > 0)]\n",
        "\n",
        "                # Polynomial fitting\n",
        "                degree = 5\n",
        "                coefficients = np.polyfit(data['t.strain'], data['t.stress'], degree)\n",
        "                polynomial = np.poly1d(coefficients)\n",
        "\n",
        "                # Generate fitted values\n",
        "                new_true_strain = np.linspace(data['t.strain'].min(), data['t.strain'].max() - 0.01, 100)\n",
        "                fitted_true_stress = polynomial(new_true_strain)\n",
        "\n",
        "                # Calculate Work Hardening Rate\n",
        "                work_hardening_rate = work_hardening(fitted_true_stress, new_true_strain)\n",
        "\n",
        "                # Prepare the DataFrame\n",
        "                fitted_data = pd.DataFrame({'t.strain': new_true_strain, 't.stress': fitted_true_stress})\n",
        "                fitted_data['hard.Rate'] = np.append(work_hardening_rate, np.nan)\n",
        "\n",
        "                # Remove negative hardening rates\n",
        "                fitted_data = fitted_data[fitted_data['hard.Rate'] > 0].reset_index(drop=True)\n",
        "\n",
        "                # Save the output Excel file in the same folder\n",
        "                output_path = os.path.join(folder_path, \"fitted_hard_rate_cal.xlsx\")\n",
        "                fitted_data.to_excel(output_path, index=False)\n",
        "\n",
        "                print(f\"Processed: {folder_name}\")\n",
        "\n",
        "            except Exception as e:\n",
        "                print(f\"Error processing {folder_name}: {e}\")\n",
        "\n",
        "print(\"All folders processed successfully!\")"
      ]
    },
    {
      "cell_type": "code",
      "source": [
        "from google.colab import drive\n",
        "drive.mount('/content/drive')\n"
      ],
      "metadata": {
        "colab": {
          "base_uri": "https://localhost:8080/"
        },
        "id": "WJ9ToZap5FbK",
        "outputId": "d7f3f933-ccca-4de2-c484-a74854dc8a9e"
      },
      "execution_count": null,
      "outputs": [
        {
          "output_type": "stream",
          "name": "stdout",
          "text": [
            "Mounted at /content/drive\n"
          ]
        }
      ]
    }
  ]
}